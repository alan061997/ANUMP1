{
 "cells": [
  {
   "cell_type": "markdown",
   "metadata": {},
   "source": [
    "# Analisis Numerico - Proyecto 1\n"
   ]
  },
  {
   "cell_type": "markdown",
   "metadata": {},
   "source": [
    "## Metodo Gauss-Seigel "
   ]
  },
  {
   "cell_type": "code",
   "execution_count": 55,
   "metadata": {},
   "outputs": [
    {
     "name": "stdout",
     "output_type": "stream",
     "text": [
      "Escribe la ecuacion [Ax1 + Bx2 + Cx3 + ... + Nxn = R]: 1+2-3=4\n",
      "['1', '2-3', '4']\n"
     ]
    }
   ],
   "source": [
    "# Programa Python 3\n",
    "\n",
    "def is_number(num):\n",
    "    try:\n",
    "        float(num)\n",
    "        return 1\n",
    "    except ValueError:\n",
    "        print (\"No es un numero entero\")\n",
    "        return 0\n",
    "\n",
    "#--------------------------------------\n",
    "i = 0\n",
    "ecuacion = input(\"Escribe la ecuacion [Ax1 + Bx2 + Cx3 + ... + Nxn = R]: \")\n",
    "\n",
    "if \"=\" in ecuacion:\n",
    "    ecuacion = ecuacion.split(\"=\")\n",
    "#ecuacion[0] = ecuacion[0].split(\"+\")\n",
    "#ecuacion[0] = ecuacion[0].split(\"-\")\n",
    "ecuacion[0] += ecuacion[1]\n",
    "ecuacion = ecuacion[0]\n",
    "matriz = ecuacion\n",
    "print(matriz)\n",
    "    \n",
    "\n"
   ]
  },
  {
   "cell_type": "code",
   "execution_count": 5,
   "metadata": {},
   "outputs": [
    {
     "name": "stdout",
     "output_type": "stream",
     "text": [
      "Escribe la ecuacion [Ax1 + Bx2 + Cx3 + ... + Nxn = R]: 2x+3x=12\n",
      "['2+3', '12']\n",
      "['2', '3', '12']\n"
     ]
    }
   ],
   "source": [
    "import string\n",
    "\n",
    "#------- VALIDACION DE LA ECUACION -----------\n",
    "while (1):\n",
    "    ecuacion = input(\"Escribe la ecuacion [Ax1 + Bx2 + Cx3 + ... + Nxn = R]: \")\n",
    "    \n",
    "    #-------- ELIMINACION DE CARACTERES NO DESEADOS --------------\n",
    "    for x in string.ascii_letters:\n",
    "        if x in ecuacion:\n",
    "            ecuacion = ecuacion.replace(x,\"\")\n",
    "                \n",
    "    for c in ecuacion:\n",
    "        if \"(\" in ecuacion:\n",
    "            ecuacion = ecuacion.replace(\"(\",\"\")\n",
    "        if \")\" in ecuacion:\n",
    "            ecuacion = ecuacion.replace(\")\",\"\")\n",
    "\n",
    "    #-------- DIVISION DE ELEMENTOS EN UNA LISTA -------------------            \n",
    "    if \"=\" in ecuacion:\n",
    "        ecuacion = ecuacion.split(\"=\")\n",
    "        if \"+\" in ecuacion[0]:\n",
    "            ecuacion[0] = ecuacion[0].split(\"+\")\n",
    "            break;\n",
    "        else:\n",
    "             print(\"La ecuacion no contiene operaciones.\")\n",
    "    else:\n",
    "        print(\"La ecuacion no contiene un resultado o simbolo =.\")\n",
    "\n",
    "#------------- MERGE DEL ELEMENTO RESULTADO CON LOS NUMEROS DE LA ECUACIÓN ...............        \n",
    "ecuacion[0].append(ecuacion[1])\n",
    "ecuacion = ecuacion[0]\n",
    "\n",
    "matriz = ecuacion\n",
    "print(matriz)"
   ]
  },
  {
   "cell_type": "code",
   "execution_count": 9,
   "metadata": {},
   "outputs": [
    {
     "name": "stdout",
     "output_type": "stream",
     "text": [
      "!\"#$%&'()*+,-./:;<=>?@[\\]^_`{|}~\n"
     ]
    }
   ],
   "source": [
    "import string\n",
    "print(string.punctuation)"
   ]
  },
  {
   "cell_type": "code",
   "execution_count": null,
   "metadata": {
    "collapsed": true
   },
   "outputs": [],
   "source": []
  },
  {
   "cell_type": "code",
   "execution_count": null,
   "metadata": {
    "collapsed": true
   },
   "outputs": [],
   "source": []
  }
 ],
 "metadata": {
  "kernelspec": {
   "display_name": "Python 3",
   "language": "python",
   "name": "python3"
  },
  "language_info": {
   "codemirror_mode": {
    "name": "ipython",
    "version": 3
   },
   "file_extension": ".py",
   "mimetype": "text/x-python",
   "name": "python",
   "nbconvert_exporter": "python",
   "pygments_lexer": "ipython3",
   "version": "3.6.1"
  }
 },
 "nbformat": 4,
 "nbformat_minor": 2
}
