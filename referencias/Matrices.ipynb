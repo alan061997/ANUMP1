{
 "cells": [
  {
   "cell_type": "markdown",
   "metadata": {},
   "source": [
    "# Metodos de resolucion de matrices"
   ]
  },
  {
   "cell_type": "code",
   "execution_count": 77,
   "metadata": {
    "collapsed": false
   },
   "outputs": [],
   "source": [
    "class Matrix:\n",
    "    def __init__(self):\n",
    "        self.matrix = []\n",
    "    \n",
    "    def __str__(self):\n",
    "        return \"\\n\".join([\"[\"+ \" \".join([str(c) for c in r]) + \"]\" \\\n",
    "                      for r in self.matrix])\n",
    "    \n",
    "    def append(self, row):\n",
    "        self.matrix.append(row)\n",
    "    \n",
    "    def __len__(self):\n",
    "        return len(self)\n",
    "    \n",
    "    def __getitem__(self, i):\n",
    "        return self.matrix[i]\n",
    "    \n",
    "    def row(self, i):\n",
    "        return self.matrix[i]\n",
    "    def col(self, i):\n",
    "        return [row[i] for row in self.matrix]\n",
    "    def swapr(self, i, j):\n",
    "        self.matrix[i], self.matrix[j] = \\\n",
    "        self.matrix[j], self.matrix[i]\n",
    "    \n",
    "    def swapc(self, i, j):\n",
    "        for row in self.matrix:\n",
    "            row[i], row[j] = row[j], row[i]\n",
    "    \n",
    "    def merge(self, r_from, r_to):\n",
    "        self.matrix[r_to] = [a + b for a, b in zip(self.matrix[r_from], self.matrix[r_to])]\n",
    "    \n",
    "    def unit(self, row, i=None):\n",
    "        i = row if i == None else i\n",
    "        assert self.matrix[row][i] != 0, \"No se puede unificar fila con valor 0\"\n",
    "        self.matrix[row] = [cell / self.matrix[row][i] for cell in self.matrix[row]]\n",
    "    \n",
    "    def zero(self, row, helper, i):\n",
    "        if(self.matrix[helper][i] != 1):\n",
    "            self.unit(helper, i)\n",
    "        factor = -1 * (1/self.matrix[row][i])\n",
    "        self.matrix[row] = [factor * cell for cell in self.matrix[row]]\n",
    "        self.merge(helper, row)\n",
    "        "
   ]
  },
  {
   "cell_type": "code",
   "execution_count": 78,
   "metadata": {
    "collapsed": false
   },
   "outputs": [
    {
     "data": {
      "text/plain": [
       "[5.0, 0.5, 1.5]"
      ]
     },
     "execution_count": 78,
     "metadata": {},
     "output_type": "execute_result"
    }
   ],
   "source": [
    "m = Matrix()\n",
    "m.append([1.0, 5.0, 3.0, 2.5])\n",
    "m.append([3.0, 0.5, 2.6, 4.3])\n",
    "m.append([4.0, 1.5, 3.4, 5.1])\n",
    "m.col(1)"
   ]
  },
  {
   "cell_type": "code",
   "execution_count": 79,
   "metadata": {
    "collapsed": false
   },
   "outputs": [
    {
     "name": "stdout",
     "output_type": "stream",
     "text": [
      "[3.0 0.5 2.6 4.3]\n",
      "[1.0 5.0 3.0 2.5]\n",
      "[4.0 1.5 3.4 5.1]\n",
      "\n",
      "[3.0 0.5 4.3 2.6]\n",
      "[1.0 5.0 2.5 3.0]\n",
      "[4.0 1.5 5.1 3.4]\n"
     ]
    }
   ],
   "source": [
    "m.swapr(0, 1)\n",
    "print(m)\n",
    "print()\n",
    "m.swapc(2, 3)\n",
    "print(m)"
   ]
  },
  {
   "cell_type": "code",
   "execution_count": 80,
   "metadata": {
    "collapsed": false
   },
   "outputs": [
    {
     "name": "stdout",
     "output_type": "stream",
     "text": [
      "[3.0 0.5 4.3 2.6]\n",
      "[1.0 5.0 2.5 3.0]\n",
      "[4.0 1.5 5.1 3.4]\n",
      "\n",
      "[3.0 0.5 4.3 2.6]\n",
      "[4.0 5.5 6.8 5.6]\n",
      "[4.0 1.5 5.1 3.4]\n"
     ]
    }
   ],
   "source": [
    "print(m)\n",
    "print()\n",
    "m.merge(0, 1)\n",
    "print(m)"
   ]
  },
  {
   "cell_type": "code",
   "execution_count": 81,
   "metadata": {
    "collapsed": false
   },
   "outputs": [
    {
     "name": "stdout",
     "output_type": "stream",
     "text": [
      "[3.0 0.5 4.3 2.6]\n",
      "[4.0 5.5 6.8 5.6]\n",
      "[4.0 1.5 5.1 3.4]\n",
      "\n",
      "[3.0 0.5 4.3 2.6]\n",
      "[0.7272727272727273 1.0 1.2363636363636363 1.018181818181818]\n",
      "[4.0 1.5 5.1 3.4]\n"
     ]
    }
   ],
   "source": [
    "print(m)\n",
    "print()\n",
    "m.unit(1)\n",
    "print(m)"
   ]
  },
  {
   "cell_type": "code",
   "execution_count": 102,
   "metadata": {
    "collapsed": false
   },
   "outputs": [
    {
     "name": "stdout",
     "output_type": "stream",
     "text": [
      "[3.0 6.0 -1.0 25.0]\n",
      "[7.0 -1.0 -2.0 9.0]\n",
      "[-2.0 -1.0 -1.0 6.0]\n"
     ]
    }
   ],
   "source": [
    "m = Matrix()\n",
    "m.append([3.0, 6.0, -1.0, 25.0])\n",
    "m.append([7.0, -1.0, -2.0, 9.0])\n",
    "m.append([-2.0, -1.0, -1.0, 6.0])\n",
    "print(m)"
   ]
  },
  {
   "cell_type": "markdown",
   "metadata": {},
   "source": [
    "# Prueba de escritorio (Gauss Jordan):"
   ]
  },
  {
   "cell_type": "code",
   "execution_count": 103,
   "metadata": {
    "collapsed": false
   },
   "outputs": [
    {
     "name": "stdout",
     "output_type": "stream",
     "text": [
      "[3.0 6.0 -1.0 25.0]\n",
      "[7.0 -1.0 -2.0 9.0]\n",
      "[-2.0 -1.0 -1.0 6.0]\n",
      "\n",
      "[1.0 2.0 -0.3333333333333333 8.333333333333334]\n",
      "[7.0 -1.0 -2.0 9.0]\n",
      "[-2.0 -1.0 -1.0 6.0]\n",
      "\n",
      "[1.0 2.0 -0.3333333333333333 8.333333333333334]\n",
      "[0.0 2.142857142857143 -0.047619047619047616 7.047619047619048]\n",
      "[-2.0 -1.0 -1.0 6.0]\n"
     ]
    }
   ],
   "source": [
    "print(m)\n",
    "print()\n",
    "m.unit(0)\n",
    "print(m)\n",
    "print()\n",
    "m.zero(1, 0, 0)\n",
    "print(m)"
   ]
  },
  {
   "cell_type": "code",
   "execution_count": 104,
   "metadata": {
    "collapsed": false
   },
   "outputs": [
    {
     "name": "stdout",
     "output_type": "stream",
     "text": [
      "[1.0 2.0 -0.3333333333333333 8.333333333333334]\n",
      "[0.0 1.0 -0.022222222222222223 3.288888888888889]\n",
      "[-2.0 -1.0 -1.0 6.0]\n"
     ]
    }
   ],
   "source": [
    "m.unit(1)\n",
    "print(m)"
   ]
  },
  {
   "cell_type": "code",
   "execution_count": 105,
   "metadata": {
    "collapsed": false
   },
   "outputs": [
    {
     "name": "stdout",
     "output_type": "stream",
     "text": [
      "[1.0 2.0 -0.3333333333333333 8.333333333333334]\n",
      "[0.0 1.0 -0.022222222222222223 3.288888888888889]\n",
      "[0.0 1.5 -0.8333333333333333 11.333333333333334]\n"
     ]
    }
   ],
   "source": [
    "m.zero(2, 0, 0)\n",
    "print(m)"
   ]
  },
  {
   "cell_type": "code",
   "execution_count": 106,
   "metadata": {
    "collapsed": false
   },
   "outputs": [
    {
     "name": "stdout",
     "output_type": "stream",
     "text": [
      "[1.0 2.0 -0.3333333333333333 8.333333333333334]\n",
      "[0.0 1.0 -0.022222222222222223 3.288888888888889]\n",
      "[0.0 0.0 0.5333333333333332 -4.266666666666666]\n"
     ]
    }
   ],
   "source": [
    "m.zero(2, 1, 1)\n",
    "print(m)"
   ]
  },
  {
   "cell_type": "code",
   "execution_count": 107,
   "metadata": {
    "collapsed": false
   },
   "outputs": [
    {
     "name": "stdout",
     "output_type": "stream",
     "text": [
      "[1.0 2.0 -0.3333333333333333 8.333333333333334]\n",
      "[0.0 1.0 -0.022222222222222223 3.288888888888889]\n",
      "[0.0 0.0 1.0 -8.0]\n"
     ]
    }
   ],
   "source": [
    "m.unit(2)\n",
    "print(m)"
   ]
  },
  {
   "cell_type": "code",
   "execution_count": 108,
   "metadata": {
    "collapsed": false
   },
   "outputs": [
    {
     "name": "stdout",
     "output_type": "stream",
     "text": [
      "[1.0 2.0 -0.3333333333333333 8.333333333333334]\n",
      "[0.0 45.0 0.0 140.0]\n",
      "[0.0 0.0 1.0 -8.0]\n"
     ]
    }
   ],
   "source": [
    "m.zero(1, 2, 2)\n",
    "print(m)"
   ]
  },
  {
   "cell_type": "code",
   "execution_count": 109,
   "metadata": {
    "collapsed": false
   },
   "outputs": [
    {
     "name": "stdout",
     "output_type": "stream",
     "text": [
      "[1.0 2.0 -0.3333333333333333 8.333333333333334]\n",
      "[0.0 1.0 0.0 3.111111111111111]\n",
      "[0.0 0.0 1.0 -8.0]\n"
     ]
    }
   ],
   "source": [
    "m.unit(1)\n",
    "print(m)"
   ]
  },
  {
   "cell_type": "code",
   "execution_count": 110,
   "metadata": {
    "collapsed": false
   },
   "outputs": [
    {
     "name": "stdout",
     "output_type": "stream",
     "text": [
      "[3.0 6.0 0.0 17.0]\n",
      "[0.0 1.0 0.0 3.111111111111111]\n",
      "[0.0 0.0 1.0 -8.0]\n"
     ]
    }
   ],
   "source": [
    "m.zero(0, 2, 2)\n",
    "print(m)"
   ]
  },
  {
   "cell_type": "code",
   "execution_count": 111,
   "metadata": {
    "collapsed": false
   },
   "outputs": [
    {
     "name": "stdout",
     "output_type": "stream",
     "text": [
      "[-0.5 0.0 0.0 0.2777777777777781]\n",
      "[0.0 1.0 0.0 3.111111111111111]\n",
      "[0.0 0.0 1.0 -8.0]\n"
     ]
    }
   ],
   "source": [
    "m.zero(0, 1, 1)\n",
    "print(m)"
   ]
  },
  {
   "cell_type": "code",
   "execution_count": 112,
   "metadata": {
    "collapsed": false
   },
   "outputs": [
    {
     "name": "stdout",
     "output_type": "stream",
     "text": [
      "[1.0 -0.0 -0.0 -0.5555555555555562]\n",
      "[0.0 1.0 0.0 3.111111111111111]\n",
      "[0.0 0.0 1.0 -8.0]\n"
     ]
    }
   ],
   "source": [
    "m.unit(0)\n",
    "print(m)"
   ]
  },
  {
   "cell_type": "markdown",
   "metadata": {},
   "source": [
    "# Expansion de identidad"
   ]
  },
  {
   "cell_type": "code",
   "execution_count": 114,
   "metadata": {
    "collapsed": false
   },
   "outputs": [
    {
     "name": "stdout",
     "output_type": "stream",
     "text": [
      "[3.0 6.0 -1.0 1.0 0.0 0.0]\n",
      "[7.0 -1.0 -2.0 0.0 1.0 0.0]\n",
      "[-2.0 -1.0 -1.0 0.0 0.0 1.0]\n"
     ]
    }
   ],
   "source": [
    "m = Matrix()\n",
    "m.append([3.0, 6.0, -1.0, 1.0, 0.0, 0.0])\n",
    "m.append([7.0, -1.0, -2.0, 0.0, 1.0, 0.0])\n",
    "m.append([-2.0, -1.0, -1.0, 0.0, 0.0, 1.0])\n",
    "print(m)"
   ]
  },
  {
   "cell_type": "code",
   "execution_count": 118,
   "metadata": {
    "collapsed": false
   },
   "outputs": [
    {
     "name": "stdout",
     "output_type": "stream",
     "text": [
      "[1.0 2.0 -0.3333333333333333 0.3333333333333333 0.0 0.0]\n",
      "[7.0 -1.0 -2.0 0.0 1.0 0.0]\n",
      "[-2.0 -1.0 -1.0 0.0 0.0 1.0]\n"
     ]
    }
   ],
   "source": [
    "m.unit(0)\n",
    "print(m)"
   ]
  },
  {
   "cell_type": "code",
   "execution_count": 119,
   "metadata": {
    "collapsed": false
   },
   "outputs": [
    {
     "name": "stdout",
     "output_type": "stream",
     "text": [
      "[1.0 2.0 -0.3333333333333333 0.3333333333333333 0.0 0.0]\n",
      "[0.0 2.142857142857143 -0.047619047619047616 0.3333333333333333 -0.14285714285714285 0.0]\n",
      "[-2.0 -1.0 -1.0 0.0 0.0 1.0]\n"
     ]
    }
   ],
   "source": [
    "m.zero(1, 0, 0)\n",
    "print(m)"
   ]
  },
  {
   "cell_type": "code",
   "execution_count": 120,
   "metadata": {
    "collapsed": false
   },
   "outputs": [
    {
     "name": "stdout",
     "output_type": "stream",
     "text": [
      "[1.0 2.0 -0.3333333333333333 0.3333333333333333 0.0 0.0]\n",
      "[0.0 1.0 -0.022222222222222223 0.15555555555555556 -0.06666666666666667 0.0]\n",
      "[-2.0 -1.0 -1.0 0.0 0.0 1.0]\n"
     ]
    }
   ],
   "source": [
    "m.unit(1)\n",
    "print(m)"
   ]
  },
  {
   "cell_type": "code",
   "execution_count": 121,
   "metadata": {
    "collapsed": false
   },
   "outputs": [
    {
     "name": "stdout",
     "output_type": "stream",
     "text": [
      "[1.0 2.0 -0.3333333333333333 0.3333333333333333 0.0 0.0]\n",
      "[0.0 1.0 -0.022222222222222223 0.15555555555555556 -0.06666666666666667 0.0]\n",
      "[0.0 1.5 -0.8333333333333333 0.3333333333333333 0.0 0.5]\n"
     ]
    }
   ],
   "source": [
    "m.zero(2, 0, 0)\n",
    "print(m)"
   ]
  },
  {
   "cell_type": "code",
   "execution_count": 122,
   "metadata": {
    "collapsed": false
   },
   "outputs": [
    {
     "name": "stdout",
     "output_type": "stream",
     "text": [
      "[1.0 2.0 -0.3333333333333333 0.3333333333333333 0.0 0.0]\n",
      "[0.0 1.0 -0.022222222222222223 0.15555555555555556 -0.06666666666666667 0.0]\n",
      "[0.0 0.0 0.5333333333333332 -0.06666666666666665 -0.06666666666666667 -0.3333333333333333]\n"
     ]
    }
   ],
   "source": [
    "m.zero(2, 1, 1)\n",
    "print(m)"
   ]
  },
  {
   "cell_type": "code",
   "execution_count": 123,
   "metadata": {
    "collapsed": false
   },
   "outputs": [
    {
     "name": "stdout",
     "output_type": "stream",
     "text": [
      "[1.0 2.0 -0.3333333333333333 0.3333333333333333 0.0 0.0]\n",
      "[0.0 1.0 -0.022222222222222223 0.15555555555555556 -0.06666666666666667 0.0]\n",
      "[0.0 0.0 1.0 -0.125 -0.12500000000000003 -0.6250000000000001]\n"
     ]
    }
   ],
   "source": [
    "m.unit(2)\n",
    "print(m)"
   ]
  },
  {
   "cell_type": "code",
   "execution_count": 124,
   "metadata": {
    "collapsed": false
   },
   "outputs": [
    {
     "name": "stdout",
     "output_type": "stream",
     "text": [
      "[1.0 2.0 -0.3333333333333333 0.3333333333333333 0.0 0.0]\n",
      "[0.0 45.0 0.0 6.875 -3.125 -0.6250000000000001]\n",
      "[0.0 0.0 1.0 -0.125 -0.12500000000000003 -0.6250000000000001]\n"
     ]
    }
   ],
   "source": [
    "m.zero(1, 2, 2)\n",
    "print(m)"
   ]
  },
  {
   "cell_type": "code",
   "execution_count": 125,
   "metadata": {
    "collapsed": false
   },
   "outputs": [
    {
     "name": "stdout",
     "output_type": "stream",
     "text": [
      "[1.0 2.0 -0.3333333333333333 0.3333333333333333 0.0 0.0]\n",
      "[0.0 1.0 0.0 0.1527777777777778 -0.06944444444444445 -0.013888888888888892]\n",
      "[0.0 0.0 1.0 -0.125 -0.12500000000000003 -0.6250000000000001]\n"
     ]
    }
   ],
   "source": [
    "m.unit(1)\n",
    "print(m)"
   ]
  },
  {
   "cell_type": "code",
   "execution_count": 126,
   "metadata": {
    "collapsed": false
   },
   "outputs": [
    {
     "name": "stdout",
     "output_type": "stream",
     "text": [
      "[-0.5 0.0 0.16666666666666666 -0.013888888888888867 -0.06944444444444445 -0.013888888888888892]\n",
      "[0.0 1.0 0.0 0.1527777777777778 -0.06944444444444445 -0.013888888888888892]\n",
      "[0.0 0.0 1.0 -0.125 -0.12500000000000003 -0.6250000000000001]\n"
     ]
    }
   ],
   "source": [
    "m.zero(0, 1, 1)\n",
    "print(m)"
   ]
  },
  {
   "cell_type": "code",
   "execution_count": 127,
   "metadata": {
    "collapsed": false
   },
   "outputs": [
    {
     "name": "stdout",
     "output_type": "stream",
     "text": [
      "[3.0 0.0 0.0 -0.041666666666666796 0.29166666666666663 -0.5416666666666667]\n",
      "[0.0 1.0 0.0 0.1527777777777778 -0.06944444444444445 -0.013888888888888892]\n",
      "[0.0 0.0 1.0 -0.125 -0.12500000000000003 -0.6250000000000001]\n"
     ]
    }
   ],
   "source": [
    "m.zero(0, 2, 2)\n",
    "print(m)"
   ]
  },
  {
   "cell_type": "code",
   "execution_count": 128,
   "metadata": {
    "collapsed": false
   },
   "outputs": [
    {
     "name": "stdout",
     "output_type": "stream",
     "text": [
      "[1.0 0.0 0.0 -0.013888888888888931 0.09722222222222221 -0.18055555555555558]\n",
      "[0.0 1.0 0.0 0.1527777777777778 -0.06944444444444445 -0.013888888888888892]\n",
      "[0.0 0.0 1.0 -0.125 -0.12500000000000003 -0.6250000000000001]\n"
     ]
    }
   ],
   "source": [
    "m.unit(0)\n",
    "print(m)"
   ]
  },
  {
   "cell_type": "code",
   "execution_count": 132,
   "metadata": {
    "collapsed": false
   },
   "outputs": [
    {
     "name": "stdout",
     "output_type": "stream",
     "text": [
      "[1.61111111111111, 3.277777777777778, -0.4999999999999991]\n"
     ]
    }
   ],
   "source": [
    "r1 = 25.0\n",
    "r2 = 9.0\n",
    "r3 = -6.0\n",
    "r = [r1, r2, r3]\n",
    "x1 = sum([a*b for a, b in zip(r, m[0][3:])])\n",
    "x2 = sum([a*b for a, b in zip(r, m[1][3:])])\n",
    "x3 = sum([a*b for a, b in zip(r, m[2][3:])])\n",
    "print([x1, x2, x3])"
   ]
  },
  {
   "cell_type": "code",
   "execution_count": 134,
   "metadata": {
    "collapsed": false
   },
   "outputs": [
    {
     "name": "stdout",
     "output_type": "stream",
     "text": [
      "25.0 -0.125\n",
      "9.0 -0.12500000000000003\n",
      "-6.0 -0.6250000000000001\n"
     ]
    }
   ],
   "source": [
    "for a, b in zip(r, m[2][3:]):\n",
    "    print(a, b)"
   ]
  },
  {
   "cell_type": "code",
   "execution_count": null,
   "metadata": {
    "collapsed": true
   },
   "outputs": [],
   "source": []
  }
 ],
 "metadata": {
  "kernelspec": {
   "display_name": "Python 3",
   "language": "python",
   "name": "python3"
  },
  "language_info": {
   "codemirror_mode": {
    "name": "ipython",
    "version": 3
   },
   "file_extension": ".py",
   "mimetype": "text/x-python",
   "name": "python",
   "nbconvert_exporter": "python",
   "pygments_lexer": "ipython3",
   "version": "3.6.0"
  }
 },
 "nbformat": 4,
 "nbformat_minor": 2
}
