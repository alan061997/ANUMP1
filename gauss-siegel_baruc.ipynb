{
 "cells": [
  {
   "cell_type": "markdown",
   "metadata": {},
   "source": [
    "# Método Gauss-Seigel"
   ]
  },
  {
   "cell_type": "markdown",
   "metadata": {},
   "source": [
    "Es el método iterativo más utilizado.\n",
    "\n",
    "Supongase que se ha dado un conjunto de __n__ ecuaciones:\n",
    "$$Ax = C$$\n",
    "\n",
    "Si los elementos de la diagonal son diferentes de 0, \n",
    "la primera ecuación se puede resolver para x1, \n",
    "la segunda para x2, \n",
    "...\n",
    "lo que lleva a:\n",
    "\n",
    "$$x_{1} = \\frac{c_{1} - a_{12}x_{2} - a_{13}x_{3} - ... - a_{1n}x_{n}}{a_{11}}$$\n",
    "$$x_{2} = \\frac{c_{2} - a_{21}x_{1} - a_{23}x_{3} - ... - a_{2n}x_{n}}{a_{22}}$$\n",
    "$$x_{3} = \\frac{c_{3} - a_{31}x_{1} - a_{32}x_{2} - ... - a_{3n}x_{n}}{a_{33}}$$\n",
    ".\n",
    ".\n",
    ".\n",
    "$$x_{n} = \\frac{c_{n} - a_{n1}x_{1} - a_{n2}x_{2} - ... - a_{n,n1}x_{n-1}}{a_{nn}}$$\n",
    "\n",
    "Se empieza a solucionar tomando las __x__ un valor inicial de 0, esto se sustituye en la Ecuación 1, la cuál se usa para calcular un nuevo valor de \n",
    "$$x1 = c1/a11$$,\n",
    "Luego se sustituye el valor de __x1__ con __x3__ ... hasta __xn__ aún en 0\n",
    "En la ecuación 2 con la cuál se calcula el valor de x2\n",
    "\n",
    "Esto se repite hasta llegar a la ecuación 4, la cuál calcula un nuevo valor de __xn__. En seguida se regresa a la primera ecuación y se repite todo el proceso hasta que la solución converja bastante cerca de los valores reales.\n",
    "La convergencia se verifica utilizando:\n",
    "$$\n",
    "E_{a} = \\mid \\frac{x_{i}^{j-1} - x_{i}^j}{x_{i}^j} \\mid * 100\\% < E_{s}\n",
    "$$\n",
    "(Para toda i en donde j y j-1 denotan la iteración actual y la anterior\n",
    "\n",
    "Este método converge si el coeficiente del valor de la diagonal en valor absoluto es mayor que la suma de los coeficientes restantes de la ecuación (Diagonalmente dominante)."
   ]
  },
  {
   "cell_type": "markdown",
   "metadata": {},
   "source": [
    "Ejemplo:\n",
    "\n",
    "$$3x_{1} - 0.1x_{2} - 0.2x_{3} = 7.85$$\n",
    "  \n",
    "$$0.1x_{1} +   7x_{2} - 0.3x_{3} = -19.3$$\n",
    "\n",
    "$$0.3x_{1} - 0.2x_{2} +  10x_{3} = 71.4$$\n",
    "\n",
    "---\n",
    "\n",
    "$$x_{1} = \\frac{7.85 + 0.1x_{2} + 0.2x_{3}}{3}$$\n",
    "\n",
    "$$x_{2} = \\frac{-19.3 - 0.1x_{1} + 0.3x_{3}}{7}$$\n",
    "\n",
    "$$x_{3} = \\frac{71.4 - 0.3x_{1} + 0.2x_{2}}{10}$$\n",
    "\n",
    "Consideramos: \n",
    "\n",
    "$$x_{1}=x_{2}=x_{3}=0$$"
   ]
  },
  {
   "cell_type": "markdown",
   "metadata": {
    "collapsed": true
   },
   "source": [
    "# Algoritmo Gauss-Seidel"
   ]
  },
  {
   "cell_type": "code",
   "execution_count": 1,
   "metadata": {
    "collapsed": true
   },
   "outputs": [],
   "source": [
    "#funcion que toma una lista y un elemento como argumento y lo \"despeja\" del resto:\n",
    "\n",
    "def despejar(lista, idx):\n",
    "    l_out = []\n",
    "    for (i, j) in enumerate(lista):\n",
    "        if j != lista[idx]:\n",
    "            l_out.append(j if (i == len(lista) - 1) else -j)\n",
    "        else:\n",
    "            l_out.append(0) #el despejado, se agrega para no perder la referencia por indice de las demas\n",
    "    return l_out"
   ]
  },
  {
   "cell_type": "code",
   "execution_count": 2,
   "metadata": {
    "collapsed": false
   },
   "outputs": [],
   "source": [
    "#funcion que calcula una iteración de Xn para dadas Xn anteriores y la matriz a resolver\n",
    "def calc_iter(matrix, x_ant):\n",
    "    x_act = list(x_ant)\n",
    "    for i, row in enumerate(matrix):\n",
    "        despejado = despejar(row, i)\n",
    "        num_list = [d * x for d, x in zip(x_act, despejado[0:-1])]\n",
    "        num = despejado[-1] + sum(num_list)\n",
    "        den = row[i]\n",
    "        x_act[i] = num/den\n",
    "    return x_act"
   ]
  },
  {
   "cell_type": "code",
   "execution_count": 3,
   "metadata": {
    "collapsed": true
   },
   "outputs": [],
   "source": [
    "def error_aproximado(act, ant):\n",
    "    Ea = abs((act-ant)/act * 100)\n",
    "    return Ea\n",
    "\n",
    "#imprime error aproximado\n",
    "def printable_Ea(var, act, ant):\n",
    "    Ea = abs((act-ant)/act * 100)\n",
    "    return \"Ea({}) = {}%\".format(var, Ea)"
   ]
  },
  {
   "cell_type": "code",
   "execution_count": 4,
   "metadata": {
    "collapsed": false
   },
   "outputs": [],
   "source": [
    "def gauss_siegel(matrix, max_error):\n",
    "    x_ant = [0,0,0]\n",
    "    x_act = [0,0,0]\n",
    "    error = 100.0\n",
    "    iters = 0\n",
    "    while error >= max_error:\n",
    "        x_act = calc_iter(matrix, x_ant)\n",
    "        errors = [error_aproximado(xac, xan) for xac, xan in zip(x_act, x_ant)]\n",
    "        error = max(errors)\n",
    "        x_ant = x_act\n",
    "        iters+=1\n",
    "    return x_act, error, iters\n",
    "    "
   ]
  },
  {
   "cell_type": "markdown",
   "metadata": {},
   "source": [
    "## Pruebas de escritorio"
   ]
  },
  {
   "cell_type": "code",
   "execution_count": 5,
   "metadata": {
    "collapsed": false
   },
   "outputs": [
    {
     "data": {
      "text/plain": [
       "[-5, -3, -7, 0, 8]"
      ]
     },
     "execution_count": 5,
     "metadata": {},
     "output_type": "execute_result"
    }
   ],
   "source": [
    "despejar([5, 3, 7, 9, 8], 3)"
   ]
  },
  {
   "cell_type": "code",
   "execution_count": 6,
   "metadata": {
    "collapsed": false
   },
   "outputs": [
    {
     "data": {
      "text/plain": [
       "[2.6166666666666667, -2.7945238095238096, 7.0056095238095235]"
      ]
     },
     "execution_count": 6,
     "metadata": {},
     "output_type": "execute_result"
    }
   ],
   "source": [
    "R1 = [3.0, -0.1, -0.2, 7.85]\n",
    "R2 = [0.1, 7.0, -0.3, -19.3]\n",
    "R3 = [0.3, -0.2, 10, 71.4]\n",
    "matrix = [R1, R2, R3]\n",
    "x_ant = [0,0,0]\n",
    "x_act = calc_iter(matrix, x_ant)\n",
    "x_act"
   ]
  },
  {
   "cell_type": "code",
   "execution_count": 7,
   "metadata": {
    "collapsed": false
   },
   "outputs": [
    {
     "data": {
      "text/plain": [
       "[100.0, 100.0, 100.0]"
      ]
     },
     "execution_count": 7,
     "metadata": {},
     "output_type": "execute_result"
    }
   ],
   "source": [
    "ea = [error_aproximado(xac, xan) for xac, xan in zip(x_act, [0,0,0])]\n",
    "ea"
   ]
  },
  {
   "cell_type": "code",
   "execution_count": 16,
   "metadata": {
    "collapsed": false
   },
   "outputs": [
    {
     "name": "stdout",
     "output_type": "stream",
     "text": [
      "([3.000000352469273, -2.5000000357546064, 6.99999998871083], 0.0010515145943187922, 4)\n"
     ]
    }
   ],
   "source": [
    "R1 = [3.0, -0.1, -0.2, 7.85]\n",
    "R2 = [0.1, 7.0, -0.3, -19.3]\n",
    "R3 = [0.3, -0.2, 10, 71.4]\n",
    "matrix = [R1, R2, R3]\n",
    "gs = gauss_siegel(matrix, .1)\n",
    "print(gs)"
   ]
  },
  {
   "cell_type": "code",
   "execution_count": null,
   "metadata": {
    "collapsed": true
   },
   "outputs": [],
   "source": []
  }
 ],
 "metadata": {
  "kernelspec": {
   "display_name": "Python 3",
   "language": "python",
   "name": "python3"
  },
  "language_info": {
   "codemirror_mode": {
    "name": "ipython",
    "version": 3
   },
   "file_extension": ".py",
   "mimetype": "text/x-python",
   "name": "python",
   "nbconvert_exporter": "python",
   "pygments_lexer": "ipython3",
   "version": "3.6.0"
  }
 },
 "nbformat": 4,
 "nbformat_minor": 2
}
